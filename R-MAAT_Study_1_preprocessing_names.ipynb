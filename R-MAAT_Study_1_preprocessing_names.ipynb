{
  "cells": [
    {
      "cell_type": "code",
      "execution_count": 1,
      "id": "28454668",
      "metadata": {
        "colab": {
          "base_uri": "https://localhost:8080/",
          "height": 482
        },
        "id": "28454668",
        "outputId": "3b4baf32-5de7-4221-8d37-7252d4e28a2c"
      },
      "outputs": [
        {
          "data": {
            "text/html": [
              "<div>\n",
              "<style scoped>\n",
              "    .dataframe tbody tr th:only-of-type {\n",
              "        vertical-align: middle;\n",
              "    }\n",
              "\n",
              "    .dataframe tbody tr th {\n",
              "        vertical-align: top;\n",
              "    }\n",
              "\n",
              "    .dataframe thead th {\n",
              "        text-align: right;\n",
              "    }\n",
              "</style>\n",
              "<table border=\"1\" class=\"dataframe\">\n",
              "  <thead>\n",
              "    <tr style=\"text-align: right;\">\n",
              "      <th></th>\n",
              "      <th>Unnamed: 0.1</th>\n",
              "      <th>Unnamed: 0</th>\n",
              "      <th>block_order</th>\n",
              "      <th>block_name</th>\n",
              "      <th>stimuli</th>\n",
              "      <th>valence</th>\n",
              "      <th>random_fixation</th>\n",
              "      <th>movement</th>\n",
              "      <th>accuracy</th>\n",
              "      <th>response_time</th>\n",
              "      <th>...</th>\n",
              "      <th>Avg Total RT Avoid Black</th>\n",
              "      <th>Avg Total RT Approach White</th>\n",
              "      <th>Avg Total RT Avoid White</th>\n",
              "      <th>Openness</th>\n",
              "      <th>Conscientiousness</th>\n",
              "      <th>Extraversion</th>\n",
              "      <th>Agreeableness</th>\n",
              "      <th>Neuroticism</th>\n",
              "      <th>white_black</th>\n",
              "      <th>diversity_index</th>\n",
              "    </tr>\n",
              "  </thead>\n",
              "  <tbody>\n",
              "    <tr>\n",
              "      <th>0</th>\n",
              "      <td>0</td>\n",
              "      <td>10</td>\n",
              "      <td>1</td>\n",
              "      <td>blkTestCatAAp</td>\n",
              "      <td>40</td>\n",
              "      <td>1</td>\n",
              "      <td>1200</td>\n",
              "      <td>Avoid</td>\n",
              "      <td>1</td>\n",
              "      <td>653</td>\n",
              "      <td>...</td>\n",
              "      <td>705.3</td>\n",
              "      <td>906.700</td>\n",
              "      <td>721.8</td>\n",
              "      <td>4.00</td>\n",
              "      <td>3.75</td>\n",
              "      <td>3.00</td>\n",
              "      <td>3.50</td>\n",
              "      <td>3.00</td>\n",
              "      <td>197.511628</td>\n",
              "      <td>0.102805</td>\n",
              "    </tr>\n",
              "    <tr>\n",
              "      <th>1</th>\n",
              "      <td>40</td>\n",
              "      <td>110</td>\n",
              "      <td>1</td>\n",
              "      <td>blkTestCatAAp</td>\n",
              "      <td>61</td>\n",
              "      <td>2</td>\n",
              "      <td>1900</td>\n",
              "      <td>Approach</td>\n",
              "      <td>1</td>\n",
              "      <td>6601</td>\n",
              "      <td>...</td>\n",
              "      <td>1192.5</td>\n",
              "      <td>1236.200</td>\n",
              "      <td>1417.3</td>\n",
              "      <td>3.50</td>\n",
              "      <td>4.00</td>\n",
              "      <td>4.25</td>\n",
              "      <td>3.25</td>\n",
              "      <td>2.50</td>\n",
              "      <td>2.708221</td>\n",
              "      <td>0.589204</td>\n",
              "    </tr>\n",
              "    <tr>\n",
              "      <th>2</th>\n",
              "      <td>80</td>\n",
              "      <td>210</td>\n",
              "      <td>1</td>\n",
              "      <td>blkTestCatAAp</td>\n",
              "      <td>34</td>\n",
              "      <td>1</td>\n",
              "      <td>1900</td>\n",
              "      <td>Avoid</td>\n",
              "      <td>1</td>\n",
              "      <td>1262</td>\n",
              "      <td>...</td>\n",
              "      <td>1028.0</td>\n",
              "      <td>951.875</td>\n",
              "      <td>1231.5</td>\n",
              "      <td>3.50</td>\n",
              "      <td>3.50</td>\n",
              "      <td>3.25</td>\n",
              "      <td>2.25</td>\n",
              "      <td>3.00</td>\n",
              "      <td>0.267080</td>\n",
              "      <td>0.483474</td>\n",
              "    </tr>\n",
              "    <tr>\n",
              "      <th>3</th>\n",
              "      <td>113</td>\n",
              "      <td>310</td>\n",
              "      <td>1</td>\n",
              "      <td>blkTestCatAAp</td>\n",
              "      <td>47</td>\n",
              "      <td>2</td>\n",
              "      <td>1000</td>\n",
              "      <td>Approach</td>\n",
              "      <td>1</td>\n",
              "      <td>1895</td>\n",
              "      <td>...</td>\n",
              "      <td>694.3</td>\n",
              "      <td>761.200</td>\n",
              "      <td>735.1</td>\n",
              "      <td>3.75</td>\n",
              "      <td>4.75</td>\n",
              "      <td>4.50</td>\n",
              "      <td>4.75</td>\n",
              "      <td>2.50</td>\n",
              "      <td>0.107983</td>\n",
              "      <td>0.368624</td>\n",
              "    </tr>\n",
              "    <tr>\n",
              "      <th>4</th>\n",
              "      <td>153</td>\n",
              "      <td>410</td>\n",
              "      <td>1</td>\n",
              "      <td>blkTestCatAAp</td>\n",
              "      <td>49</td>\n",
              "      <td>2</td>\n",
              "      <td>1300</td>\n",
              "      <td>Approach</td>\n",
              "      <td>1</td>\n",
              "      <td>415</td>\n",
              "      <td>...</td>\n",
              "      <td>571.7</td>\n",
              "      <td>534.300</td>\n",
              "      <td>573.1</td>\n",
              "      <td>3.25</td>\n",
              "      <td>4.50</td>\n",
              "      <td>1.50</td>\n",
              "      <td>1.00</td>\n",
              "      <td>1.25</td>\n",
              "      <td>0.026607</td>\n",
              "      <td>0.138734</td>\n",
              "    </tr>\n",
              "  </tbody>\n",
              "</table>\n",
              "<p>5 rows × 89 columns</p>\n",
              "</div>"
            ],
            "text/plain": [
              "   Unnamed: 0.1  Unnamed: 0  block_order     block_name  stimuli  valence  \\\n",
              "0             0          10            1  blkTestCatAAp       40        1   \n",
              "1            40         110            1  blkTestCatAAp       61        2   \n",
              "2            80         210            1  blkTestCatAAp       34        1   \n",
              "3           113         310            1  blkTestCatAAp       47        2   \n",
              "4           153         410            1  blkTestCatAAp       49        2   \n",
              "\n",
              "   random_fixation  movement  accuracy  response_time  ...  \\\n",
              "0             1200     Avoid         1            653  ...   \n",
              "1             1900  Approach         1           6601  ...   \n",
              "2             1900     Avoid         1           1262  ...   \n",
              "3             1000  Approach         1           1895  ...   \n",
              "4             1300  Approach         1            415  ...   \n",
              "\n",
              "  Avg Total RT Avoid Black Avg Total RT Approach White  \\\n",
              "0                    705.3                     906.700   \n",
              "1                   1192.5                    1236.200   \n",
              "2                   1028.0                     951.875   \n",
              "3                    694.3                     761.200   \n",
              "4                    571.7                     534.300   \n",
              "\n",
              "  Avg Total RT Avoid White Openness Conscientiousness  Extraversion  \\\n",
              "0                    721.8     4.00              3.75          3.00   \n",
              "1                   1417.3     3.50              4.00          4.25   \n",
              "2                   1231.5     3.50              3.50          3.25   \n",
              "3                    735.1     3.75              4.75          4.50   \n",
              "4                    573.1     3.25              4.50          1.50   \n",
              "\n",
              "  Agreeableness  Neuroticism white_black diversity_index  \n",
              "0          3.50         3.00  197.511628        0.102805  \n",
              "1          3.25         2.50    2.708221        0.589204  \n",
              "2          2.25         3.00    0.267080        0.483474  \n",
              "3          4.75         2.50    0.107983        0.368624  \n",
              "4          1.00         1.25    0.026607        0.138734  \n",
              "\n",
              "[5 rows x 89 columns]"
            ]
          },
          "execution_count": 1,
          "metadata": {},
          "output_type": "execute_result"
        }
      ],
      "source": [
        "import pandas as pd\n",
        "import numpy as np\n",
        "from sklearn.preprocessing import StandardScaler\n",
        "\n",
        "from sklearn.linear_model import Ridge\n",
        "from sklearn.svm import SVR\n",
        "from sklearn.ensemble import RandomForestRegressor\n",
        "from sklearn.model_selection import RepeatedKFold\n",
        "from sklearn.model_selection import GridSearchCV\n",
        "from xgboost import XGBRegressor\n",
        "import matplotlib.pyplot as plt\n",
        "import seaborn as sns\n",
        "\n",
        "data_URL = '/Users/kristivanmeter/Desktop/MIDS/Capstone/merged_names.csv'\n",
        "df = pd.read_csv(data_URL, encoding = \"ISO-8859-1\")\n",
        "df.head()"
      ]
    },
    {
      "cell_type": "code",
      "execution_count": 2,
      "id": "f3afe62a",
      "metadata": {
        "colab": {
          "base_uri": "https://localhost:8080/"
        },
        "id": "f3afe62a",
        "outputId": "f7559ee2-3f4c-45fb-cccf-fd2e5c1bfdd9"
      },
      "outputs": [
        {
          "data": {
            "text/plain": [
              "['Unnamed: 0.1',\n",
              " 'Unnamed: 0',\n",
              " 'block_order',\n",
              " 'block_name',\n",
              " 'stimuli',\n",
              " 'valence',\n",
              " 'random_fixation',\n",
              " 'movement',\n",
              " 'accuracy',\n",
              " 'response_time',\n",
              " 'ImpVsExp',\n",
              " 'participant',\n",
              " 'Group',\n",
              " 'Race',\n",
              " 'Gender',\n",
              " 'Duration (in seconds)',\n",
              " 'ResponseId',\n",
              " 'Age',\n",
              " 'CurrentGender',\n",
              " 'Sex',\n",
              " 'RaceEthnicity',\n",
              " 'Check1_1',\n",
              " 'Political_1',\n",
              " 'Zip',\n",
              " 'Occupations',\n",
              " 'PSYID',\n",
              " 'FTBlack_1',\n",
              " 'VCNegBlack_1',\n",
              " 'VCPosBlack_1',\n",
              " 'ECBlack_Neighbors',\n",
              " 'ECBlack_WorkColleagues',\n",
              " 'ECBlack_CloseFriends',\n",
              " 'ECBlack_Married',\n",
              " 'FTWhite_1',\n",
              " 'VCNegWhite_1',\n",
              " 'VCPosWhite_1',\n",
              " 'ECWhite_Neighbors',\n",
              " 'ECWhite_WorkColleagues',\n",
              " 'ECWhite_CloseFriends',\n",
              " 'ECWhite_Married',\n",
              " 'MiniIPI_1_1',\n",
              " 'MiniIPI_1_2',\n",
              " 'MiniIPI_1_3',\n",
              " 'MiniIPI_1_4',\n",
              " 'MiniIPI_1_5',\n",
              " 'MiniIPI_2_1',\n",
              " 'MiniIPI_2_2',\n",
              " 'MiniIPI_2_3',\n",
              " 'MiniIPI_2_4',\n",
              " 'MiniIPI_2_5',\n",
              " 'MiniIPI_3_1',\n",
              " 'MiniIPI_3_2',\n",
              " 'MiniIPI_3_3',\n",
              " 'MiniIPI_3_4',\n",
              " 'MiniIPI_3_5',\n",
              " 'MiniIPI_4_1',\n",
              " 'MiniIPI_4_2',\n",
              " 'MiniIPI_4_3',\n",
              " 'MiniIPI_4_4',\n",
              " 'MiniIPI_4_5',\n",
              " 'Unclear',\n",
              " 'Comments ',\n",
              " 'reindex',\n",
              " 'accuracy_total',\n",
              " 'race',\n",
              " 'gender',\n",
              " 'Total RT Approach Male',\n",
              " 'Total RT Avoid Male',\n",
              " 'Total RT Approach Female',\n",
              " 'Total RT Avoid Female',\n",
              " 'Total RT Approach Black',\n",
              " 'Total RT Avoid Black',\n",
              " 'Total RT Approach White',\n",
              " 'Total RT Avoid White',\n",
              " 'Avg Total RT Approach Male',\n",
              " 'Avg Total RT Avoid Male',\n",
              " 'Avg Total RT Approach Female',\n",
              " 'Avg Total RT Avoid Female',\n",
              " 'Avg Total RT Approach Black',\n",
              " 'Avg Total RT Avoid Black',\n",
              " 'Avg Total RT Approach White',\n",
              " 'Avg Total RT Avoid White',\n",
              " 'Openness',\n",
              " 'Conscientiousness',\n",
              " 'Extraversion',\n",
              " 'Agreeableness',\n",
              " 'Neuroticism',\n",
              " 'white_black',\n",
              " 'diversity_index']"
            ]
          },
          "execution_count": 2,
          "metadata": {},
          "output_type": "execute_result"
        }
      ],
      "source": [
        "list(df.columns)"
      ]
    },
    {
      "cell_type": "code",
      "execution_count": 3,
      "id": "cdd24598",
      "metadata": {
        "colab": {
          "base_uri": "https://localhost:8080/"
        },
        "id": "cdd24598",
        "outputId": "73c5945a-5a61-4c6b-c03d-f7c66a41fb55"
      },
      "outputs": [
        {
          "data": {
            "text/plain": [
              "(359, 89)"
            ]
          },
          "execution_count": 3,
          "metadata": {},
          "output_type": "execute_result"
        }
      ],
      "source": [
        "df.shape"
      ]
    },
    {
      "cell_type": "code",
      "execution_count": 4,
      "id": "c678da00",
      "metadata": {
        "colab": {
          "base_uri": "https://localhost:8080/"
        },
        "id": "c678da00",
        "outputId": "8cd5a7a3-acdb-4ca9-c4b6-30372277206b"
      },
      "outputs": [
        {
          "name": "stdout",
          "output_type": "stream",
          "text": [
            "movement            object\n",
            "response_time        int64\n",
            "ImpVsExp            object\n",
            "accuracy             int64\n",
            "Age                  int64\n",
            "CurrentGender       object\n",
            "RaceEthnicity       object\n",
            "Race                object\n",
            "Political_1         object\n",
            "stimuli              int64\n",
            "accuracy_total     float64\n",
            "white_black        float64\n",
            "diversity_index    float64\n",
            "dtype: object\n"
          ]
        }
      ],
      "source": [
        "# List of desired columns\n",
        "desired_columns = ['movement', 'response_time', 'ImpVsExp','accuracy',\n",
        "                   'Age', 'CurrentGender', 'RaceEthnicity', 'Race', 'Political_1',\n",
        "                    'stimuli', 'accuracy_total', 'white_black','diversity_index']\n",
        "\n",
        "# Subset the DataFrame to include only the desired columns\n",
        "df_filtered = df[desired_columns].copy()\n",
        "\n",
        "print(df_filtered.dtypes)"
      ]
    },
    {
      "cell_type": "markdown",
      "id": "8df5b932",
      "metadata": {
        "id": "8df5b932"
      },
      "source": [
        "### Label encode and discretize"
      ]
    },
    {
      "cell_type": "code",
      "execution_count": 5,
      "id": "c70a7568",
      "metadata": {
        "id": "c70a7568"
      },
      "outputs": [
        {
          "name": "stderr",
          "output_type": "stream",
          "text": [
            "/var/folders/z2/38w7d0t53n9_7n4mywgz6phc0000gn/T/ipykernel_34196/1035857865.py:1: FutureWarning: Downcasting behavior in `replace` is deprecated and will be removed in a future version. To retain the old behavior, explicitly call `result.infer_objects(copy=False)`. To opt-in to the future behavior, set `pd.set_option('future.no_silent_downcasting', True)`\n",
            "  df_filtered['movement'] = df_filtered['movement'].replace({'Avoid': 0, 'Approach': 1})\n",
            "/var/folders/z2/38w7d0t53n9_7n4mywgz6phc0000gn/T/ipykernel_34196/1035857865.py:2: FutureWarning: Downcasting behavior in `replace` is deprecated and will be removed in a future version. To retain the old behavior, explicitly call `result.infer_objects(copy=False)`. To opt-in to the future behavior, set `pd.set_option('future.no_silent_downcasting', True)`\n",
            "  df_filtered['ImpVsExp'] = df_filtered['ImpVsExp'].replace({'Implicit': 0, 'Explicit': 1})\n"
          ]
        }
      ],
      "source": [
        "\n",
        "df_filtered['movement'] = df_filtered['movement'].replace({'Avoid': 0, 'Approach': 1})\n",
        "df_filtered['ImpVsExp'] = df_filtered['ImpVsExp'].replace({'Implicit': 0, 'Explicit': 1})"
      ]
    },
    {
      "cell_type": "code",
      "execution_count": 6,
      "id": "dc7dd81f",
      "metadata": {
        "colab": {
          "base_uri": "https://localhost:8080/"
        },
        "id": "dc7dd81f",
        "outputId": "59b8824d-a79f-4118-cd7f-0470e9043a5a"
      },
      "outputs": [
        {
          "data": {
            "text/plain": [
              "(359, 13)"
            ]
          },
          "execution_count": 6,
          "metadata": {},
          "output_type": "execute_result"
        }
      ],
      "source": [
        "df_filtered.head()\n",
        "df_filtered.shape"
      ]
    },
    {
      "cell_type": "markdown",
      "id": "ff9540dc",
      "metadata": {
        "id": "ff9540dc"
      },
      "source": [
        "### Drop participants with accuracy < 0.7 and rt > 2500 or < 100"
      ]
    },
    {
      "cell_type": "code",
      "execution_count": 7,
      "id": "b60fb105",
      "metadata": {
        "colab": {
          "base_uri": "https://localhost:8080/",
          "height": 244
        },
        "id": "b60fb105",
        "outputId": "6f2faa60-2871-4cf2-d770-a70008796139"
      },
      "outputs": [
        {
          "name": "stdout",
          "output_type": "stream",
          "text": [
            "(321, 11)\n"
          ]
        },
        {
          "data": {
            "text/html": [
              "<div>\n",
              "<style scoped>\n",
              "    .dataframe tbody tr th:only-of-type {\n",
              "        vertical-align: middle;\n",
              "    }\n",
              "\n",
              "    .dataframe tbody tr th {\n",
              "        vertical-align: top;\n",
              "    }\n",
              "\n",
              "    .dataframe thead th {\n",
              "        text-align: right;\n",
              "    }\n",
              "</style>\n",
              "<table border=\"1\" class=\"dataframe\">\n",
              "  <thead>\n",
              "    <tr style=\"text-align: right;\">\n",
              "      <th></th>\n",
              "      <th>movement</th>\n",
              "      <th>response_time</th>\n",
              "      <th>ImpVsExp</th>\n",
              "      <th>Age</th>\n",
              "      <th>CurrentGender</th>\n",
              "      <th>RaceEthnicity</th>\n",
              "      <th>Race</th>\n",
              "      <th>Political_1</th>\n",
              "      <th>stimuli</th>\n",
              "      <th>white_black</th>\n",
              "      <th>diversity_index</th>\n",
              "    </tr>\n",
              "  </thead>\n",
              "  <tbody>\n",
              "    <tr>\n",
              "      <th>0</th>\n",
              "      <td>0</td>\n",
              "      <td>653</td>\n",
              "      <td>0</td>\n",
              "      <td>58</td>\n",
              "      <td>Female</td>\n",
              "      <td>White alone, not Hispanic or Latino</td>\n",
              "      <td>Dr.Dre</td>\n",
              "      <td>Moderate</td>\n",
              "      <td>40</td>\n",
              "      <td>197.511628</td>\n",
              "      <td>0.102805</td>\n",
              "    </tr>\n",
              "    <tr>\n",
              "      <th>2</th>\n",
              "      <td>0</td>\n",
              "      <td>1262</td>\n",
              "      <td>0</td>\n",
              "      <td>46</td>\n",
              "      <td>Female</td>\n",
              "      <td>Black or African American alone</td>\n",
              "      <td>Dr.Dre</td>\n",
              "      <td>Strongly conservative</td>\n",
              "      <td>34</td>\n",
              "      <td>0.267080</td>\n",
              "      <td>0.483474</td>\n",
              "    </tr>\n",
              "    <tr>\n",
              "      <th>3</th>\n",
              "      <td>1</td>\n",
              "      <td>1895</td>\n",
              "      <td>0</td>\n",
              "      <td>59</td>\n",
              "      <td>Female</td>\n",
              "      <td>Black or African American alone</td>\n",
              "      <td>Dr.Dre</td>\n",
              "      <td>Liberal</td>\n",
              "      <td>47</td>\n",
              "      <td>0.107983</td>\n",
              "      <td>0.368624</td>\n",
              "    </tr>\n",
              "    <tr>\n",
              "      <th>4</th>\n",
              "      <td>1</td>\n",
              "      <td>415</td>\n",
              "      <td>0</td>\n",
              "      <td>43</td>\n",
              "      <td>Male</td>\n",
              "      <td>Black or African American alone</td>\n",
              "      <td>Dr.Dre</td>\n",
              "      <td>Moderate</td>\n",
              "      <td>49</td>\n",
              "      <td>0.026607</td>\n",
              "      <td>0.138734</td>\n",
              "    </tr>\n",
              "    <tr>\n",
              "      <th>5</th>\n",
              "      <td>0</td>\n",
              "      <td>1369</td>\n",
              "      <td>0</td>\n",
              "      <td>56</td>\n",
              "      <td>Female</td>\n",
              "      <td>Black or African American alone</td>\n",
              "      <td>Dr.Dre</td>\n",
              "      <td>Liberal</td>\n",
              "      <td>48</td>\n",
              "      <td>1.359602</td>\n",
              "      <td>0.627702</td>\n",
              "    </tr>\n",
              "  </tbody>\n",
              "</table>\n",
              "</div>"
            ],
            "text/plain": [
              "   movement  response_time  ImpVsExp  Age CurrentGender  \\\n",
              "0         0            653         0   58        Female   \n",
              "2         0           1262         0   46        Female   \n",
              "3         1           1895         0   59        Female   \n",
              "4         1            415         0   43          Male   \n",
              "5         0           1369         0   56        Female   \n",
              "\n",
              "                         RaceEthnicity    Race            Political_1  \\\n",
              "0  White alone, not Hispanic or Latino  Dr.Dre               Moderate   \n",
              "2      Black or African American alone  Dr.Dre  Strongly conservative   \n",
              "3      Black or African American alone  Dr.Dre                Liberal   \n",
              "4      Black or African American alone  Dr.Dre               Moderate   \n",
              "5      Black or African American alone  Dr.Dre                Liberal   \n",
              "\n",
              "   stimuli  white_black  diversity_index  \n",
              "0       40   197.511628         0.102805  \n",
              "2       34     0.267080         0.483474  \n",
              "3       47     0.107983         0.368624  \n",
              "4       49     0.026607         0.138734  \n",
              "5       48     1.359602         0.627702  "
            ]
          },
          "execution_count": 7,
          "metadata": {},
          "output_type": "execute_result"
        }
      ],
      "source": [
        "# Exclude outliers from rt\n",
        "df_filtered = df_filtered.loc[df_filtered['response_time'] <= 2500, :]\n",
        "df_filtered = df_filtered.loc[df_filtered['response_time'] >= 100, :]\n",
        "df_filtered = df_filtered.loc[df_filtered['accuracy_total'] >= 0.70, :]\n",
        "df_filtered = df_filtered.loc[df_filtered['accuracy']==1]\n",
        "\n",
        "df_filtered.drop(columns=['accuracy_total', 'accuracy'], inplace=True)\n",
        "print(df_filtered.shape)\n",
        "df_filtered.head()"
      ]
    },
    {
      "cell_type": "markdown",
      "id": "a170bffa",
      "metadata": {
        "id": "a170bffa"
      },
      "source": [
        "### Dropna"
      ]
    },
    {
      "cell_type": "code",
      "execution_count": 8,
      "id": "8eddaca7",
      "metadata": {
        "colab": {
          "base_uri": "https://localhost:8080/"
        },
        "id": "8eddaca7",
        "outputId": "a5963e77-4e3f-47be-cf9a-9bf49728566f"
      },
      "outputs": [
        {
          "data": {
            "text/plain": [
              "movement           0\n",
              "response_time      0\n",
              "ImpVsExp           0\n",
              "Age                0\n",
              "CurrentGender      0\n",
              "RaceEthnicity      0\n",
              "Race               0\n",
              "Political_1        0\n",
              "stimuli            0\n",
              "white_black        0\n",
              "diversity_index    3\n",
              "dtype: int64"
            ]
          },
          "execution_count": 8,
          "metadata": {},
          "output_type": "execute_result"
        }
      ],
      "source": [
        "df_filtered.isna().sum()"
      ]
    },
    {
      "cell_type": "code",
      "execution_count": 9,
      "id": "38f1ac94",
      "metadata": {
        "colab": {
          "base_uri": "https://localhost:8080/"
        },
        "id": "38f1ac94",
        "outputId": "67da8991-b36c-453d-a8d0-e3c659fbee9d"
      },
      "outputs": [
        {
          "data": {
            "text/plain": [
              "movement           0\n",
              "response_time      0\n",
              "ImpVsExp           0\n",
              "Age                0\n",
              "CurrentGender      0\n",
              "RaceEthnicity      0\n",
              "Race               0\n",
              "Political_1        0\n",
              "stimuli            0\n",
              "white_black        0\n",
              "diversity_index    0\n",
              "dtype: int64"
            ]
          },
          "execution_count": 9,
          "metadata": {},
          "output_type": "execute_result"
        }
      ],
      "source": [
        "df_filtered = df_filtered.dropna()\n",
        "df_filtered.isna().sum()"
      ]
    },
    {
      "cell_type": "code",
      "execution_count": 10,
      "id": "4abf4b51",
      "metadata": {
        "colab": {
          "base_uri": "https://localhost:8080/"
        },
        "id": "4abf4b51",
        "outputId": "b301ba94-4058-488b-f3aa-b6f799a8ea5f"
      },
      "outputs": [
        {
          "name": "stdout",
          "output_type": "stream",
          "text": [
            "(318, 11)\n"
          ]
        }
      ],
      "source": [
        "print(df_filtered.shape)"
      ]
    },
    {
      "cell_type": "code",
      "execution_count": 11,
      "id": "62959c8e",
      "metadata": {
        "colab": {
          "base_uri": "https://localhost:8080/",
          "height": 448
        },
        "id": "62959c8e",
        "outputId": "b76a7138-9982-4d7b-d2a3-45d1ee88e3ce"
      },
      "outputs": [
        {
          "data": {
            "text/plain": [
              "<matplotlib.collections.PathCollection at 0x15cb9e150>"
            ]
          },
          "execution_count": 11,
          "metadata": {},
          "output_type": "execute_result"
        },
        {
          "data": {
            "image/png": "[encoded data removed]",
            "text/plain": [
              "<Figure size 640x480 with 1 Axes>"
            ]
          },
          "metadata": {},
          "output_type": "display_data"
        }
      ],
      "source": [
        "plt.scatter(df_filtered['response_time'], df_filtered['white_black'])"
      ]
    },
    {
      "cell_type": "code",
      "execution_count": null,
      "id": "89fa741d",
      "metadata": {
        "id": "89fa741d"
      },
      "outputs": [],
      "source": [
        "\n"
      ]
    },
    {
      "cell_type": "markdown",
      "id": "01b20d35",
      "metadata": {
        "id": "01b20d35"
      },
      "source": [
        "### Apply standard scaler to numerical columns"
      ]
    },
    {
      "cell_type": "code",
      "execution_count": 12,
      "id": "27520ca7",
      "metadata": {
        "colab": {
          "base_uri": "https://localhost:8080/"
        },
        "id": "27520ca7",
        "outputId": "e47fdedb-daa1-4fa9-ef2a-21567e54aff9"
      },
      "outputs": [
        {
          "name": "stdout",
          "output_type": "stream",
          "text": [
            "movement             int64\n",
            "response_time        int64\n",
            "ImpVsExp             int64\n",
            "Age                  int64\n",
            "CurrentGender       object\n",
            "RaceEthnicity       object\n",
            "Race                object\n",
            "Political_1         object\n",
            "stimuli              int64\n",
            "white_black        float64\n",
            "diversity_index    float64\n",
            "dtype: object\n"
          ]
        }
      ],
      "source": [
        "df_filtered['movement'] = df_filtered['movement'].astype('int')\n",
        "# Convert those columns to 'category' data type\n",
        "categorical_columns = ['movement', 'ImpVsExp', 'CurrentGender', 'RaceEthnicity', 'Race']\n",
        "\n",
        "for column in categorical_columns:\n",
        "    df_filtered.loc[:, column] = df_filtered[column].astype('category')\n",
        "\n",
        "print(df_filtered.dtypes)"
      ]
    },
    {
      "cell_type": "code",
      "execution_count": 13,
      "id": "6eabbc7b",
      "metadata": {},
      "outputs": [
        {
          "name": "stdout",
          "output_type": "stream",
          "text": [
            "Unique age values in the dataset:\n",
            "197.5116279069767\n",
            "0.2670804487944617\n",
            "0.1079826732673267\n",
            "0.0266071723682036\n",
            "1.3596017549780628\n",
            "4.731405649339796\n",
            "1.6460146587265232\n",
            "1.427628056398358\n",
            "28.547884187082406\n",
            "0.8357678641926569\n",
            "0.1159179803247599\n",
            "0.3848350415583091\n",
            "0.5166803823510793\n",
            "2.0441794053418443\n",
            "3.0251980982567352\n",
            "1.3158347676419966\n",
            "0.0956671077451504\n",
            "33.773371104815865\n",
            "1.6041551075765983\n",
            "14.703198294243071\n",
            "278.6666666666667\n",
            "2.5990816819719673\n",
            "30.90508149568552\n",
            "26.330434782608695\n",
            "46.070234113712374\n",
            "2.488467874794069\n",
            "0.070432488457552\n",
            "0.4447102013572144\n",
            "1.26206257572518\n",
            "1.043003046049095\n",
            "7.713615023474178\n",
            "12.44060773480663\n",
            "0.4086010030946537\n",
            "0.3301415134310652\n",
            "0.2331139980878465\n",
            "0.3742407901458818\n",
            "0.8761543197209112\n",
            "0.1525910818577918\n",
            "4.68295719844358\n",
            "0.6090010165419093\n",
            "28.59375\n",
            "0.221034787735849\n",
            "6.222794959908362\n",
            "0.3773823191733639\n",
            "11.542657342657344\n",
            "0.2631902784187048\n",
            "48.875739644970416\n",
            "2.3407682775712515\n",
            "7.014820803018054\n",
            "136.3\n",
            "3.602983745268314\n",
            "1.2940476190476191\n",
            "34.004056795131845\n",
            "6.235365524683032\n",
            "0.3002437876908601\n",
            "1.976314626601856\n",
            "0.4133934767522553\n",
            "5.320952131833638\n",
            "6.552386670669469\n",
            "1.357936387155684\n",
            "0.3380462724935733\n",
            "36.8724279835391\n",
            "0.1046635813456746\n",
            "11.716010165184244\n",
            "13.806923076923075\n",
            "16.013629842180773\n",
            "1.0104288044744816\n",
            "47.04365079365079\n",
            "3.592792792792793\n",
            "1.8\n",
            "4.491577808684902\n",
            "52.14942528735632\n",
            "1.8311557788944723\n",
            "4.847158719790986\n",
            "7.885988103106411\n",
            "0.4426182133439295\n",
            "9.69576379974326\n",
            "0.4335867429742889\n",
            "5.705751115518096\n",
            "149.15853658536585\n",
            "4.987672955974843\n",
            "13.20661636680209\n",
            "0.2511391625615763\n",
            "0.7102920227920227\n",
            "31.31313131313131\n",
            "28.015748031496063\n",
            "3.0597894736842104\n",
            "4.226171243941842\n",
            "3.7934549356223175\n",
            "9.716189339697692\n",
            "6.252083333333333\n",
            "8.348021582733812\n",
            "0.4418956043956044\n",
            "0.8914133333333333\n",
            "0.0684357541899441\n",
            "0.0877580634522788\n",
            "4.7853133769878395\n",
            "0.1022278117139777\n",
            "9.623893805309734\n",
            "2.1827810044414075\n",
            "0.5228631727048892\n",
            "2.808142777467931\n",
            "4.040286975717439\n",
            "1.1742834540254363\n",
            "1.7805876466842536\n",
            "6.1678776290630974\n",
            "5.388139059304703\n",
            "90.93939393939394\n",
            "8.005547337278106\n",
            "31.1980198019802\n",
            "74.45652173913044\n",
            "12.495100567302734\n",
            "1.8971513133555309\n",
            "16.424791086350975\n",
            "39.467948717948715\n",
            "66.29054054054055\n",
            "41.16512059369202\n",
            "0.7639620653319283\n",
            "1.413376500315856\n",
            "69.96\n",
            "29.68794326241135\n",
            "8.845660749506903\n",
            "0.4828725191491785\n",
            "0.1094012222538868\n",
            "1.4461286358049978\n",
            "19.12792511700468\n",
            "30.012\n",
            "8.9726582278481\n",
            "0.7898773006134969\n",
            "0.0293784945541514\n",
            "17.105063291139242\n",
            "5.66546880104541\n",
            "11.292753623188403\n",
            "2.987879852450378\n",
            "14.794540229885058\n",
            "4.63339222614841\n",
            "18.35206321334504\n",
            "0.098459399976833\n",
            "2.160806738273704\n",
            "0.4577118253113947\n",
            "0.47252208047105\n",
            "1.2082961641391614\n",
            "100.375\n",
            "35.29390681003584\n",
            "114.92682926829268\n",
            "5.394361633182113\n",
            "8.442594963721724\n",
            "46.32234432234432\n",
            "1.02642073778664\n",
            "4.802502536354413\n",
            "65.84810126582279\n",
            "0.1850912620143389\n",
            "0.249914890719684\n",
            "85.13432835820896\n",
            "137.9078947368421\n",
            "1.959418070444104\n",
            "46.03299492385787\n",
            "6.0804321728691475\n",
            "1.2509996364958198\n",
            "1.357198314108252\n",
            "2.674039030159669\n",
            "4.868104312938817\n",
            "1.07425329551143\n",
            "2.37453300124533\n",
            "0.0652641447005624\n",
            "6.285242809995285\n",
            "14.727441860465117\n",
            "0.6023311416616856\n",
            "7.404281345565749\n",
            "4.5293887147335425\n",
            "4.941236068895643\n",
            "0.4331116038433111\n",
            "1.5450568678915135\n",
            "1.1377893950709486\n",
            "0.0949411460831703\n",
            "1.084927180207054\n",
            "4.7298623199873395\n",
            "1.1378962245103978\n",
            "12.499434389140273\n",
            "0.0293792132005231\n",
            "3.384787472035794\n",
            "9.581334496293064\n",
            "0.8518422080458273\n",
            "1.5009435580717103\n",
            "99.35400516795866\n",
            "3.7824697173620456\n",
            "7.266138165345414\n",
            "0.8342271293375394\n",
            "127.48\n",
            "36.888888888888886\n",
            "0.9625796178343948\n",
            "94.4255319148936\n",
            "9.467455621301776\n",
            "20.43304620203602\n",
            "206.1428571428571\n",
            "46.55707762557078\n",
            "10.80225816295392\n",
            "15.264864864864863\n",
            "0.5725394896719319\n",
            "0.2197592982933297\n",
            "1.293371757925072\n",
            "51.58352402745995\n",
            "1.870452227133628\n",
            "80.74193548387096\n",
            "18.33964569334148\n",
            "10.924709103353868\n",
            "1.4057377049180328\n",
            "0.2677091183119819\n",
            "1.3593587341245057\n",
            "1.0652600588812562\n",
            "7.805555555555555\n",
            "4.071317485003332\n",
            "7.867199201198202\n",
            "262.95652173913044\n",
            "0.7020769312281445\n",
            "3.0554041780199817\n",
            "9.42871485943775\n",
            "31.28292682926829\n",
            "0.0824636544610001\n",
            "2.5629742033383915\n",
            "0.1290831416365429\n",
            "1.880479693641036\n",
            "1.2718052738336714\n",
            "6.095486349293456\n",
            "97.6\n",
            "5.597896845267901\n",
            "21.92885375494071\n",
            "33.861167002012074\n",
            "4.01303302543338\n",
            "5.170096021947874\n",
            "1.6548697227253728\n",
            "0.5976366714243038\n",
            "5.60369033293221\n",
            "0.2924783165078913\n",
            "12.20321469575201\n",
            "15.523020257826888\n",
            "7.72654931275621\n",
            "1.6013150831991412\n",
            "1.5591787439613527\n",
            "40.92892156862745\n",
            "2.1756317237928444\n",
            "17.98856209150327\n",
            "116.73248407643312\n",
            "10.697567691601652\n",
            "12.094961240310075\n",
            "2.371358273220377\n",
            "6.978545887961859\n",
            "0.1570602807597027\n",
            "20.67441860465116\n",
            "2.1585288522511097\n",
            "5.191072826938136\n",
            "1.172118069405664\n",
            "3.13855331841909\n",
            "0.925101763907734\n",
            "0.6514756738831778\n",
            "3.219195849546044\n",
            "71.08196721311475\n",
            "15.965841584158415\n",
            "31.760465116279068\n",
            "4.912027491408935\n",
            "19.833989266547405\n",
            "26.579492003762937\n",
            "2.79887785930082\n",
            "7.608918128654971\n",
            "7.372432074221338\n",
            "5.804774083546462\n",
            "4.444343891402715\n",
            "1.7780279153534444\n",
            "69.55555555555556\n",
            "114.50943396226415\n",
            "0.928386092371562\n",
            "2.098280098280098\n",
            "0.8805031446540881\n",
            "0.2360012780573528\n",
            "4.119483763530392\n",
            "0.93006446571596\n",
            "1.0414091909936785\n",
            "0.3987790128434026\n",
            "2.515716817461058\n",
            "0.4561888174884391\n",
            "15.62042042042042\n",
            "0.1877392017495899\n",
            "0.0724809260720863\n",
            "4.441516966067864\n",
            "1.6415835105512842\n",
            "30.75766016713092\n",
            "8.494985250737463\n",
            "86.89719626168224\n",
            "8.653499795333607\n",
            "0.9583333333333334\n",
            "16.30721489526765\n",
            "2.7653021442495125\n",
            "0.1626269785022442\n",
            "0.0673701765483926\n",
            "73.88121546961327\n",
            "59.054054054054056\n",
            "4.3422143280047365\n",
            "2.5241271959083833\n",
            "0.5626935669409787\n",
            "6.667551426675514\n",
            "4.635623073535887\n",
            "7.72276376146789\n",
            "inf\n",
            "227.33333333333337\n",
            "4.424026074809871\n",
            "9.08972503617945\n",
            "8.851143009037745\n"
          ]
        }
      ],
      "source": [
        "# Print all unique age values in the dataset\n",
        "age_values = df_filtered['white_black'].unique()\n",
        "print(\"Unique age values in the dataset:\")\n",
        "for w in age_values:\n",
        "    print(w)\n"
      ]
    },
    {
      "cell_type": "code",
      "execution_count": 14,
      "id": "426f0cc6",
      "metadata": {},
      "outputs": [],
      "source": [
        "# Replace 'inf' values with the maximum finite value in the 'white_black' column\n",
        "max_finite_value = np.finfo(np.float64).max\n",
        "df_filtered['white_black'] = df_filtered['white_black'].replace(np.inf, max_finite_value)"
      ]
    },
    {
      "cell_type": "code",
      "execution_count": 15,
      "id": "ecc1561e",
      "metadata": {
        "id": "ecc1561e"
      },
      "outputs": [
        {
          "name": "stderr",
          "output_type": "stream",
          "text": [
            "/Users/kristivanmeter/opt/miniconda3/envs/capstoneenv/lib/python3.12/site-packages/sklearn/utils/extmath.py:1156: RuntimeWarning: overflow encountered in square\n",
            "  temp **= 2\n",
            "/Users/kristivanmeter/opt/miniconda3/envs/capstoneenv/lib/python3.12/site-packages/sklearn/utils/extmath.py:1162: RuntimeWarning: overflow encountered in square\n",
            "  new_unnormalized_variance -= correction**2 / new_sample_count\n",
            "/Users/kristivanmeter/opt/miniconda3/envs/capstoneenv/lib/python3.12/site-packages/sklearn/utils/extmath.py:1162: RuntimeWarning: invalid value encountered in subtract\n",
            "  new_unnormalized_variance -= correction**2 / new_sample_count\n",
            "/Users/kristivanmeter/opt/miniconda3/envs/capstoneenv/lib/python3.12/site-packages/sklearn/preprocessing/_data.py:84: RuntimeWarning: overflow encountered in square\n",
            "  upper_bound = n_samples * eps * var + (n_samples * mean * eps) ** 2\n"
          ]
        }
      ],
      "source": [
        "# Drop original 'participant' and target 'response_time' for X\n",
        "X = df_filtered.drop(columns=['response_time'])\n",
        "y = df_filtered['response_time']\n",
        "\n",
        "# Scale numeric features\n",
        "numeric_cols = X.select_dtypes(include=['float64', 'int64']).columns\n",
        "scaler = StandardScaler()\n",
        "X[numeric_cols] = scaler.fit_transform(X[numeric_cols])\n",
        "\n",
        "X['rt'] = y\n",
        "X.to_csv('names_cleaned_scaled.csv')"
      ]
    },
    {
      "cell_type": "code",
      "execution_count": 17,
      "id": "d05cb1cc",
      "metadata": {},
      "outputs": [
        {
          "data": {
            "text/plain": [
              "<bound method NDFrame.head of      Unnamed: 0.1  Unnamed: 0  block_order     block_name  stimuli  valence  \\\n",
              "0               0          10            1  blkTestCatAAp       40        1   \n",
              "1              40         110            1  blkTestCatAAp       61        2   \n",
              "2              80         210            1  blkTestCatAAp       34        1   \n",
              "3             113         310            1  blkTestCatAAp       47        2   \n",
              "4             153         410            1  blkTestCatAAp       49        2   \n",
              "..            ...         ...          ...            ...      ...      ...   \n",
              "354         13032       35410            1  blkTestCatAAp       33        1   \n",
              "355         13072       35510            1  blkTestCatAAp       35        1   \n",
              "356         13108       35610            1  blkTestCatAAp       49        2   \n",
              "357         13147       35710            1  blkTestCatAAp       32        1   \n",
              "358         13181       35810            1  blkTestCatAAp       58        2   \n",
              "\n",
              "     random_fixation  movement  accuracy  response_time  ...  \\\n",
              "0               1200     Avoid         1            653  ...   \n",
              "1               1900  Approach         1           6601  ...   \n",
              "2               1900     Avoid         1           1262  ...   \n",
              "3               1000  Approach         1           1895  ...   \n",
              "4               1300  Approach         1            415  ...   \n",
              "..               ...       ...       ...            ...  ...   \n",
              "354             2000  Approach         1            967  ...   \n",
              "355              800  Approach         1            868  ...   \n",
              "356             1000     Avoid         1            658  ...   \n",
              "357             1400  Approach         1           2361  ...   \n",
              "358             1100     Avoid         1           1145  ...   \n",
              "\n",
              "    Avg Total RT Avoid Black Avg Total RT Approach White  \\\n",
              "0                 705.300000                  906.700000   \n",
              "1                1192.500000                 1236.200000   \n",
              "2                1028.000000                  951.875000   \n",
              "3                 694.300000                  761.200000   \n",
              "4                 571.700000                  534.300000   \n",
              "..                       ...                         ...   \n",
              "354               926.550000                  968.450000   \n",
              "355               690.473684                  732.235294   \n",
              "356               704.947368                  613.450000   \n",
              "357              1678.071429                 1054.300000   \n",
              "358              1002.400000                  857.850000   \n",
              "\n",
              "    Avg Total RT Avoid White Openness Conscientiousness  Extraversion  \\\n",
              "0                      721.8     4.00              3.75          3.00   \n",
              "1                     1417.3     3.50              4.00          4.25   \n",
              "2                     1231.5     3.50              3.50          3.25   \n",
              "3                      735.1     3.75              4.75          4.50   \n",
              "4                      573.1     3.25              4.50          1.50   \n",
              "..                       ...      ...               ...           ...   \n",
              "354                      0.0     2.50              4.75          2.25   \n",
              "355                      0.0     3.00              4.50          1.00   \n",
              "356                      0.0     4.00              4.25          1.25   \n",
              "357                      0.0     4.00              2.50          2.25   \n",
              "358                      0.0     3.75              3.50          3.25   \n",
              "\n",
              "    Agreeableness  Neuroticism white_black diversity_index  \n",
              "0            3.50         3.00  197.511628        0.102805  \n",
              "1            3.25         2.50    2.708221        0.589204  \n",
              "2            2.25         3.00    0.267080        0.483474  \n",
              "3            4.75         2.50    0.107983        0.368624  \n",
              "4            1.00         1.25    0.026607        0.138734  \n",
              "..            ...          ...         ...             ...  \n",
              "354          3.50         2.75         inf        0.052877  \n",
              "355          2.50         2.25  227.333333        0.084380  \n",
              "356          3.00         1.75    4.424026        0.547393  \n",
              "357          3.75         1.50    9.089725        0.486579  \n",
              "358          3.75         2.25    8.851143        0.399236  \n",
              "\n",
              "[359 rows x 89 columns]>"
            ]
          },
          "execution_count": 17,
          "metadata": {},
          "output_type": "execute_result"
        }
      ],
      "source": []
    }
  ],
  "metadata": {
    "accelerator": "GPU",
    "colab": {
      "gpuType": "T4",
      "provenance": []
    },
    "kernelspec": {
      "display_name": "Python 3.12.2",
      "language": "python",
      "name": "python3"
    },
    "language_info": {
      "codemirror_mode": {
        "name": "ipython",
        "version": 3
      },
      "file_extension": ".py",
      "mimetype": "text/x-python",
      "name": "python",
      "nbconvert_exporter": "python",
      "pygments_lexer": "ipython3",
      "version": "3.12.2"
    },
    "vscode": {
      "interpreter": {
        "hash": "fda188d878897b99f93015e825fd514f165caf7cce854e6aae8aaed1efd55f02"
      }
    }
  },
  "nbformat": 4,
  "nbformat_minor": 5
}
