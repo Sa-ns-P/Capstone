{
  "cells": [
    {
      "cell_type": "code",
      "execution_count": 16,
      "id": "28454668",
      "metadata": {
        "colab": {
          "base_uri": "https://localhost:8080/",
          "height": 482
        },
        "id": "28454668",
        "outputId": "3b4baf32-5de7-4221-8d37-7252d4e28a2c"
      },
      "outputs": [
        {
          "data": {
            "text/html": [
              "<div>\n",
              "<style scoped>\n",
              "    .dataframe tbody tr th:only-of-type {\n",
              "        vertical-align: middle;\n",
              "    }\n",
              "\n",
              "    .dataframe tbody tr th {\n",
              "        vertical-align: top;\n",
              "    }\n",
              "\n",
              "    .dataframe thead th {\n",
              "        text-align: right;\n",
              "    }\n",
              "</style>\n",
              "<table border=\"1\" class=\"dataframe\">\n",
              "  <thead>\n",
              "    <tr style=\"text-align: right;\">\n",
              "      <th></th>\n",
              "      <th>Unnamed: 0.1</th>\n",
              "      <th>Unnamed: 0</th>\n",
              "      <th>block_order</th>\n",
              "      <th>block_name</th>\n",
              "      <th>stimuli</th>\n",
              "      <th>valence</th>\n",
              "      <th>random_fixation</th>\n",
              "      <th>movement</th>\n",
              "      <th>accuracy</th>\n",
              "      <th>response_time</th>\n",
              "      <th>...</th>\n",
              "      <th>Avg Total RT Avoid Black</th>\n",
              "      <th>Avg Total RT Approach White</th>\n",
              "      <th>Avg Total RT Avoid White</th>\n",
              "      <th>Openness</th>\n",
              "      <th>Conscientiousness</th>\n",
              "      <th>Extraversion</th>\n",
              "      <th>Agreeableness</th>\n",
              "      <th>Neuroticism</th>\n",
              "      <th>white_black</th>\n",
              "      <th>diversity_index</th>\n",
              "    </tr>\n",
              "  </thead>\n",
              "  <tbody>\n",
              "    <tr>\n",
              "      <th>0</th>\n",
              "      <td>0</td>\n",
              "      <td>60</td>\n",
              "      <td>1</td>\n",
              "      <td>blkTestCatAAp</td>\n",
              "      <td>47</td>\n",
              "      <td>2</td>\n",
              "      <td>1900</td>\n",
              "      <td>Avoid</td>\n",
              "      <td>1</td>\n",
              "      <td>1384</td>\n",
              "      <td>...</td>\n",
              "      <td>1002.4</td>\n",
              "      <td>781.2</td>\n",
              "      <td>978.900000</td>\n",
              "      <td>3.75</td>\n",
              "      <td>4.75</td>\n",
              "      <td>2.75</td>\n",
              "      <td>4.00</td>\n",
              "      <td>1.50</td>\n",
              "      <td>14.813487</td>\n",
              "      <td>0.486712</td>\n",
              "    </tr>\n",
              "    <tr>\n",
              "      <th>1</th>\n",
              "      <td>40</td>\n",
              "      <td>160</td>\n",
              "      <td>1</td>\n",
              "      <td>blkTestCatAAp</td>\n",
              "      <td>32</td>\n",
              "      <td>1</td>\n",
              "      <td>1500</td>\n",
              "      <td>Approach</td>\n",
              "      <td>1</td>\n",
              "      <td>519</td>\n",
              "      <td>...</td>\n",
              "      <td>571.5</td>\n",
              "      <td>480.5</td>\n",
              "      <td>680.700000</td>\n",
              "      <td>4.50</td>\n",
              "      <td>3.75</td>\n",
              "      <td>2.50</td>\n",
              "      <td>3.50</td>\n",
              "      <td>1.50</td>\n",
              "      <td>60.740741</td>\n",
              "      <td>0.244615</td>\n",
              "    </tr>\n",
              "    <tr>\n",
              "      <th>2</th>\n",
              "      <td>80</td>\n",
              "      <td>260</td>\n",
              "      <td>1</td>\n",
              "      <td>blkTestCatAAp</td>\n",
              "      <td>43</td>\n",
              "      <td>2</td>\n",
              "      <td>1200</td>\n",
              "      <td>Avoid</td>\n",
              "      <td>1</td>\n",
              "      <td>828</td>\n",
              "      <td>...</td>\n",
              "      <td>657.1</td>\n",
              "      <td>718.0</td>\n",
              "      <td>648.800000</td>\n",
              "      <td>2.25</td>\n",
              "      <td>4.25</td>\n",
              "      <td>2.00</td>\n",
              "      <td>3.00</td>\n",
              "      <td>1.50</td>\n",
              "      <td>16.007435</td>\n",
              "      <td>0.461046</td>\n",
              "    </tr>\n",
              "    <tr>\n",
              "      <th>3</th>\n",
              "      <td>120</td>\n",
              "      <td>360</td>\n",
              "      <td>1</td>\n",
              "      <td>blkTestCatAAp</td>\n",
              "      <td>63</td>\n",
              "      <td>2</td>\n",
              "      <td>1500</td>\n",
              "      <td>Avoid</td>\n",
              "      <td>1</td>\n",
              "      <td>1224</td>\n",
              "      <td>...</td>\n",
              "      <td>1069.0</td>\n",
              "      <td>1107.9</td>\n",
              "      <td>1113.800000</td>\n",
              "      <td>5.00</td>\n",
              "      <td>3.50</td>\n",
              "      <td>3.75</td>\n",
              "      <td>4.75</td>\n",
              "      <td>1.75</td>\n",
              "      <td>133.571429</td>\n",
              "      <td>0.064736</td>\n",
              "    </tr>\n",
              "    <tr>\n",
              "      <th>4</th>\n",
              "      <td>160</td>\n",
              "      <td>460</td>\n",
              "      <td>1</td>\n",
              "      <td>blkTestCatAAp</td>\n",
              "      <td>51</td>\n",
              "      <td>2</td>\n",
              "      <td>800</td>\n",
              "      <td>Avoid</td>\n",
              "      <td>1</td>\n",
              "      <td>5188</td>\n",
              "      <td>...</td>\n",
              "      <td>1335.6</td>\n",
              "      <td>734.2</td>\n",
              "      <td>883.777778</td>\n",
              "      <td>3.00</td>\n",
              "      <td>5.00</td>\n",
              "      <td>2.50</td>\n",
              "      <td>4.00</td>\n",
              "      <td>2.75</td>\n",
              "      <td>0.187739</td>\n",
              "      <td>0.612749</td>\n",
              "    </tr>\n",
              "  </tbody>\n",
              "</table>\n",
              "<p>5 rows × 89 columns</p>\n",
              "</div>"
            ],
            "text/plain": [
              "   Unnamed: 0.1  Unnamed: 0  block_order     block_name  stimuli  valence  \\\n",
              "0             0          60            1  blkTestCatAAp       47        2   \n",
              "1            40         160            1  blkTestCatAAp       32        1   \n",
              "2            80         260            1  blkTestCatAAp       43        2   \n",
              "3           120         360            1  blkTestCatAAp       63        2   \n",
              "4           160         460            1  blkTestCatAAp       51        2   \n",
              "\n",
              "   random_fixation  movement  accuracy  response_time  ...  \\\n",
              "0             1900     Avoid         1           1384  ...   \n",
              "1             1500  Approach         1            519  ...   \n",
              "2             1200     Avoid         1            828  ...   \n",
              "3             1500     Avoid         1           1224  ...   \n",
              "4              800     Avoid         1           5188  ...   \n",
              "\n",
              "  Avg Total RT Avoid Black Avg Total RT Approach White  \\\n",
              "0                   1002.4                       781.2   \n",
              "1                    571.5                       480.5   \n",
              "2                    657.1                       718.0   \n",
              "3                   1069.0                      1107.9   \n",
              "4                   1335.6                       734.2   \n",
              "\n",
              "  Avg Total RT Avoid White Openness Conscientiousness  Extraversion  \\\n",
              "0               978.900000     3.75              4.75          2.75   \n",
              "1               680.700000     4.50              3.75          2.50   \n",
              "2               648.800000     2.25              4.25          2.00   \n",
              "3              1113.800000     5.00              3.50          3.75   \n",
              "4               883.777778     3.00              5.00          2.50   \n",
              "\n",
              "  Agreeableness  Neuroticism white_black diversity_index  \n",
              "0          4.00         1.50   14.813487        0.486712  \n",
              "1          3.50         1.50   60.740741        0.244615  \n",
              "2          3.00         1.50   16.007435        0.461046  \n",
              "3          4.75         1.75  133.571429        0.064736  \n",
              "4          4.00         2.75    0.187739        0.612749  \n",
              "\n",
              "[5 rows x 89 columns]"
            ]
          },
          "execution_count": 16,
          "metadata": {},
          "output_type": "execute_result"
        }
      ],
      "source": [
        "import pandas as pd\n",
        "import numpy as np\n",
        "from sklearn.preprocessing import StandardScaler\n",
        "\n",
        "from sklearn.linear_model import Ridge\n",
        "from sklearn.svm import SVR\n",
        "from sklearn.ensemble import RandomForestRegressor\n",
        "from sklearn.model_selection import RepeatedKFold\n",
        "from sklearn.model_selection import GridSearchCV\n",
        "from xgboost import XGBRegressor\n",
        "import matplotlib.pyplot as plt\n",
        "import seaborn as sns\n",
        "\n",
        "data_URL = '/Users/kristivanmeter/Desktop/MIDS/Capstone/merged_faces.csv'\n",
        "df = pd.read_csv(data_URL, encoding = \"ISO-8859-1\")\n",
        "df.head()"
      ]
    },
    {
      "cell_type": "code",
      "execution_count": 17,
      "id": "f3afe62a",
      "metadata": {
        "colab": {
          "base_uri": "https://localhost:8080/"
        },
        "id": "f3afe62a",
        "outputId": "f7559ee2-3f4c-45fb-cccf-fd2e5c1bfdd9"
      },
      "outputs": [
        {
          "data": {
            "text/plain": [
              "['Unnamed: 0.1',\n",
              " 'Unnamed: 0',\n",
              " 'block_order',\n",
              " 'block_name',\n",
              " 'stimuli',\n",
              " 'valence',\n",
              " 'random_fixation',\n",
              " 'movement',\n",
              " 'accuracy',\n",
              " 'response_time',\n",
              " 'ImpVsExp',\n",
              " 'participant',\n",
              " 'Group',\n",
              " 'Race',\n",
              " 'Gender',\n",
              " 'Duration (in seconds)',\n",
              " 'ResponseId',\n",
              " 'Age',\n",
              " 'CurrentGender',\n",
              " 'Sex',\n",
              " 'RaceEthnicity',\n",
              " 'Check1_1',\n",
              " 'Political_1',\n",
              " 'Zip',\n",
              " 'Occupations',\n",
              " 'PSYID',\n",
              " 'FTBlack_1',\n",
              " 'VCNegBlack_1',\n",
              " 'VCPosBlack_1',\n",
              " 'ECBlack_Neighbors',\n",
              " 'ECBlack_WorkColleagues',\n",
              " 'ECBlack_CloseFriends',\n",
              " 'ECBlack_Married',\n",
              " 'FTWhite_1',\n",
              " 'VCNegWhite_1',\n",
              " 'VCPosWhite_1',\n",
              " 'ECWhite_Neighbors',\n",
              " 'ECWhite_WorkColleagues',\n",
              " 'ECWhite_CloseFriends',\n",
              " 'ECWhite_Married',\n",
              " 'MiniIPI_1_1',\n",
              " 'MiniIPI_1_2',\n",
              " 'MiniIPI_1_3',\n",
              " 'MiniIPI_1_4',\n",
              " 'MiniIPI_1_5',\n",
              " 'MiniIPI_2_1',\n",
              " 'MiniIPI_2_2',\n",
              " 'MiniIPI_2_3',\n",
              " 'MiniIPI_2_4',\n",
              " 'MiniIPI_2_5',\n",
              " 'MiniIPI_3_1',\n",
              " 'MiniIPI_3_2',\n",
              " 'MiniIPI_3_3',\n",
              " 'MiniIPI_3_4',\n",
              " 'MiniIPI_3_5',\n",
              " 'MiniIPI_4_1',\n",
              " 'MiniIPI_4_2',\n",
              " 'MiniIPI_4_3',\n",
              " 'MiniIPI_4_4',\n",
              " 'MiniIPI_4_5',\n",
              " 'Unclear',\n",
              " 'Comments ',\n",
              " 'expected_ir',\n",
              " 'accuracy_total',\n",
              " 'race',\n",
              " 'gender',\n",
              " 'Total RT Approach Male',\n",
              " 'Total RT Avoid Male',\n",
              " 'Total RT Approach Female',\n",
              " 'Total RT Avoid Female',\n",
              " 'Total RT Approach Black',\n",
              " 'Total RT Avoid Black',\n",
              " 'Total RT Approach White',\n",
              " 'Total RT Avoid White',\n",
              " 'Avg Total RT Approach Male',\n",
              " 'Avg Total RT Avoid Male',\n",
              " 'Avg Total RT Approach Female',\n",
              " 'Avg Total RT Avoid Female',\n",
              " 'Avg Total RT Approach Black',\n",
              " 'Avg Total RT Avoid Black',\n",
              " 'Avg Total RT Approach White',\n",
              " 'Avg Total RT Avoid White',\n",
              " 'Openness',\n",
              " 'Conscientiousness',\n",
              " 'Extraversion',\n",
              " 'Agreeableness',\n",
              " 'Neuroticism',\n",
              " 'white_black',\n",
              " 'diversity_index']"
            ]
          },
          "execution_count": 17,
          "metadata": {},
          "output_type": "execute_result"
        }
      ],
      "source": [
        "list(df.columns)"
      ]
    },
    {
      "cell_type": "code",
      "execution_count": 18,
      "id": "cdd24598",
      "metadata": {
        "colab": {
          "base_uri": "https://localhost:8080/"
        },
        "id": "cdd24598",
        "outputId": "73c5945a-5a61-4c6b-c03d-f7c66a41fb55"
      },
      "outputs": [
        {
          "data": {
            "text/plain": [
              "(362, 89)"
            ]
          },
          "execution_count": 18,
          "metadata": {},
          "output_type": "execute_result"
        }
      ],
      "source": [
        "df.shape"
      ]
    },
    {
      "cell_type": "code",
      "execution_count": 19,
      "id": "c678da00",
      "metadata": {
        "colab": {
          "base_uri": "https://localhost:8080/"
        },
        "id": "c678da00",
        "outputId": "8cd5a7a3-acdb-4ca9-c4b6-30372277206b"
      },
      "outputs": [
        {
          "name": "stdout",
          "output_type": "stream",
          "text": [
            "movement            object\n",
            "response_time        int64\n",
            "ImpVsExp            object\n",
            "accuracy             int64\n",
            "Age                  int64\n",
            "CurrentGender       object\n",
            "RaceEthnicity       object\n",
            "Race                object\n",
            "Political_1         object\n",
            "stimuli              int64\n",
            "accuracy_total     float64\n",
            "white_black        float64\n",
            "diversity_index    float64\n",
            "dtype: object\n"
          ]
        }
      ],
      "source": [
        "# List of desired columns\n",
        "desired_columns = ['movement', 'response_time', 'ImpVsExp','accuracy',\n",
        "                   'Age', 'CurrentGender', 'RaceEthnicity', 'Race', 'Political_1',\n",
        "                    'stimuli', 'accuracy_total', 'white_black','diversity_index']\n",
        "\n",
        "# Subset the DataFrame to include only the desired columns\n",
        "df_filtered = df[desired_columns].copy()\n",
        "\n",
        "print(df_filtered.dtypes)"
      ]
    },
    {
      "cell_type": "markdown",
      "id": "ff9540dc",
      "metadata": {
        "id": "ff9540dc"
      },
      "source": [
        "### Drop participants with accuracy < 0.7 and rt > 2500 or < 100"
      ]
    },
    {
      "cell_type": "code",
      "execution_count": 20,
      "id": "b60fb105",
      "metadata": {
        "colab": {
          "base_uri": "https://localhost:8080/",
          "height": 244
        },
        "id": "b60fb105",
        "outputId": "6f2faa60-2871-4cf2-d770-a70008796139"
      },
      "outputs": [
        {
          "name": "stdout",
          "output_type": "stream",
          "text": [
            "(334, 11)\n"
          ]
        },
        {
          "data": {
            "text/html": [
              "<div>\n",
              "<style scoped>\n",
              "    .dataframe tbody tr th:only-of-type {\n",
              "        vertical-align: middle;\n",
              "    }\n",
              "\n",
              "    .dataframe tbody tr th {\n",
              "        vertical-align: top;\n",
              "    }\n",
              "\n",
              "    .dataframe thead th {\n",
              "        text-align: right;\n",
              "    }\n",
              "</style>\n",
              "<table border=\"1\" class=\"dataframe\">\n",
              "  <thead>\n",
              "    <tr style=\"text-align: right;\">\n",
              "      <th></th>\n",
              "      <th>movement</th>\n",
              "      <th>response_time</th>\n",
              "      <th>ImpVsExp</th>\n",
              "      <th>Age</th>\n",
              "      <th>CurrentGender</th>\n",
              "      <th>RaceEthnicity</th>\n",
              "      <th>Race</th>\n",
              "      <th>Political_1</th>\n",
              "      <th>stimuli</th>\n",
              "      <th>white_black</th>\n",
              "      <th>diversity_index</th>\n",
              "    </tr>\n",
              "  </thead>\n",
              "  <tbody>\n",
              "    <tr>\n",
              "      <th>0</th>\n",
              "      <td>Avoid</td>\n",
              "      <td>1384</td>\n",
              "      <td>Implicit</td>\n",
              "      <td>76</td>\n",
              "      <td>Female</td>\n",
              "      <td>White alone, not Hispanic or Latino</td>\n",
              "      <td>Dr.Dre</td>\n",
              "      <td>Conservative</td>\n",
              "      <td>47</td>\n",
              "      <td>14.813487</td>\n",
              "      <td>0.486712</td>\n",
              "    </tr>\n",
              "    <tr>\n",
              "      <th>1</th>\n",
              "      <td>Approach</td>\n",
              "      <td>519</td>\n",
              "      <td>Implicit</td>\n",
              "      <td>77</td>\n",
              "      <td>Male</td>\n",
              "      <td>White alone, not Hispanic or Latino</td>\n",
              "      <td>Dr.Dre</td>\n",
              "      <td>Conservative</td>\n",
              "      <td>32</td>\n",
              "      <td>60.740741</td>\n",
              "      <td>0.244615</td>\n",
              "    </tr>\n",
              "    <tr>\n",
              "      <th>2</th>\n",
              "      <td>Avoid</td>\n",
              "      <td>828</td>\n",
              "      <td>Implicit</td>\n",
              "      <td>59</td>\n",
              "      <td>Female</td>\n",
              "      <td>White alone, not Hispanic or Latino</td>\n",
              "      <td>Dr.Dre</td>\n",
              "      <td>Strongly conservative</td>\n",
              "      <td>43</td>\n",
              "      <td>16.007435</td>\n",
              "      <td>0.461046</td>\n",
              "    </tr>\n",
              "    <tr>\n",
              "      <th>3</th>\n",
              "      <td>Avoid</td>\n",
              "      <td>1224</td>\n",
              "      <td>Implicit</td>\n",
              "      <td>64</td>\n",
              "      <td>Female</td>\n",
              "      <td>White alone, not Hispanic or Latino</td>\n",
              "      <td>Dr.Dre</td>\n",
              "      <td>Moderate</td>\n",
              "      <td>63</td>\n",
              "      <td>133.571429</td>\n",
              "      <td>0.064736</td>\n",
              "    </tr>\n",
              "    <tr>\n",
              "      <th>5</th>\n",
              "      <td>Approach</td>\n",
              "      <td>686</td>\n",
              "      <td>Implicit</td>\n",
              "      <td>34</td>\n",
              "      <td>Female</td>\n",
              "      <td>Black or African American alone</td>\n",
              "      <td>Dr.Dre</td>\n",
              "      <td>Moderate</td>\n",
              "      <td>44</td>\n",
              "      <td>0.172270</td>\n",
              "      <td>0.406948</td>\n",
              "    </tr>\n",
              "  </tbody>\n",
              "</table>\n",
              "</div>"
            ],
            "text/plain": [
              "   movement  response_time  ImpVsExp  Age CurrentGender  \\\n",
              "0     Avoid           1384  Implicit   76        Female   \n",
              "1  Approach            519  Implicit   77          Male   \n",
              "2     Avoid            828  Implicit   59        Female   \n",
              "3     Avoid           1224  Implicit   64        Female   \n",
              "5  Approach            686  Implicit   34        Female   \n",
              "\n",
              "                         RaceEthnicity    Race            Political_1  \\\n",
              "0  White alone, not Hispanic or Latino  Dr.Dre           Conservative   \n",
              "1  White alone, not Hispanic or Latino  Dr.Dre           Conservative   \n",
              "2  White alone, not Hispanic or Latino  Dr.Dre  Strongly conservative   \n",
              "3  White alone, not Hispanic or Latino  Dr.Dre               Moderate   \n",
              "5      Black or African American alone  Dr.Dre               Moderate   \n",
              "\n",
              "   stimuli  white_black  diversity_index  \n",
              "0       47    14.813487         0.486712  \n",
              "1       32    60.740741         0.244615  \n",
              "2       43    16.007435         0.461046  \n",
              "3       63   133.571429         0.064736  \n",
              "5       44     0.172270         0.406948  "
            ]
          },
          "execution_count": 20,
          "metadata": {},
          "output_type": "execute_result"
        }
      ],
      "source": [
        "# Exclude outliers from rt\n",
        "df_filtered = df_filtered.loc[df_filtered['response_time'] <= 2500, :]\n",
        "df_filtered = df_filtered.loc[df_filtered['response_time'] >= 100, :]\n",
        "df_filtered = df_filtered.loc[df_filtered['accuracy_total'] >= 0.70, :]\n",
        "df_filtered = df_filtered.loc[df_filtered['accuracy']==1]\n",
        "\n",
        "df_filtered.drop(columns=['accuracy_total', 'accuracy'], inplace=True)\n",
        "print(df_filtered.shape)\n",
        "df_filtered.head()"
      ]
    },
    {
      "cell_type": "markdown",
      "id": "a170bffa",
      "metadata": {
        "id": "a170bffa"
      },
      "source": [
        "### Dropna"
      ]
    },
    {
      "cell_type": "code",
      "execution_count": 21,
      "id": "8eddaca7",
      "metadata": {
        "colab": {
          "base_uri": "https://localhost:8080/"
        },
        "id": "8eddaca7",
        "outputId": "a5963e77-4e3f-47be-cf9a-9bf49728566f"
      },
      "outputs": [
        {
          "data": {
            "text/plain": [
              "movement           0\n",
              "response_time      0\n",
              "ImpVsExp           0\n",
              "Age                0\n",
              "CurrentGender      0\n",
              "RaceEthnicity      0\n",
              "Race               0\n",
              "Political_1        0\n",
              "stimuli            0\n",
              "white_black        0\n",
              "diversity_index    2\n",
              "dtype: int64"
            ]
          },
          "execution_count": 21,
          "metadata": {},
          "output_type": "execute_result"
        }
      ],
      "source": [
        "df_filtered.isna().sum()"
      ]
    },
    {
      "cell_type": "code",
      "execution_count": 22,
      "id": "38f1ac94",
      "metadata": {
        "colab": {
          "base_uri": "https://localhost:8080/"
        },
        "id": "38f1ac94",
        "outputId": "67da8991-b36c-453d-a8d0-e3c659fbee9d"
      },
      "outputs": [
        {
          "data": {
            "text/plain": [
              "movement           0\n",
              "response_time      0\n",
              "ImpVsExp           0\n",
              "Age                0\n",
              "CurrentGender      0\n",
              "RaceEthnicity      0\n",
              "Race               0\n",
              "Political_1        0\n",
              "stimuli            0\n",
              "white_black        0\n",
              "diversity_index    0\n",
              "dtype: int64"
            ]
          },
          "execution_count": 22,
          "metadata": {},
          "output_type": "execute_result"
        }
      ],
      "source": [
        "df_filtered = df_filtered.dropna()\n",
        "df_filtered.isna().sum()"
      ]
    },
    {
      "cell_type": "code",
      "execution_count": 23,
      "id": "4abf4b51",
      "metadata": {
        "colab": {
          "base_uri": "https://localhost:8080/"
        },
        "id": "4abf4b51",
        "outputId": "b301ba94-4058-488b-f3aa-b6f799a8ea5f"
      },
      "outputs": [
        {
          "name": "stdout",
          "output_type": "stream",
          "text": [
            "(332, 11)\n"
          ]
        }
      ],
      "source": [
        "print(df_filtered.shape)"
      ]
    },
    {
      "cell_type": "code",
      "execution_count": 24,
      "id": "62959c8e",
      "metadata": {
        "colab": {
          "base_uri": "https://localhost:8080/",
          "height": 448
        },
        "id": "62959c8e",
        "outputId": "b76a7138-9982-4d7b-d2a3-45d1ee88e3ce"
      },
      "outputs": [
        {
          "data": {
            "text/plain": [
              "<matplotlib.collections.PathCollection at 0x153be0530>"
            ]
          },
          "execution_count": 24,
          "metadata": {},
          "output_type": "execute_result"
        },
        {
          "data": {
            "image/png": "[encoded data removed]",
            "text/plain": [
              "<Figure size 640x480 with 1 Axes>"
            ]
          },
          "metadata": {},
          "output_type": "display_data"
        }
      ],
      "source": [
        "plt.scatter(df_filtered['response_time'], df_filtered['white_black'])"
      ]
    },
    {
      "cell_type": "code",
      "execution_count": null,
      "id": "89fa741d",
      "metadata": {
        "id": "89fa741d"
      },
      "outputs": [],
      "source": [
        "\n"
      ]
    },
    {
      "cell_type": "markdown",
      "id": "01b20d35",
      "metadata": {
        "id": "01b20d35"
      },
      "source": [
        "### Apply standard scaler to numerical columns"
      ]
    },
    {
      "cell_type": "code",
      "execution_count": 27,
      "id": "5ebc09ab",
      "metadata": {},
      "outputs": [
        {
          "name": "stdout",
          "output_type": "stream",
          "text": [
            "[-1 'Approach']\n"
          ]
        },
        {
          "name": "stderr",
          "output_type": "stream",
          "text": [
            "/var/folders/z2/38w7d0t53n9_7n4mywgz6phc0000gn/T/ipykernel_34403/1493066860.py:9: FutureWarning: Downcasting behavior in `replace` is deprecated and will be removed in a future version. To retain the old behavior, explicitly call `result.infer_objects(copy=False)`. To opt-in to the future behavior, set `pd.set_option('future.no_silent_downcasting', True)`\n",
            "  df_filtered['movement'] = df_filtered['movement'].replace(non_numeric_values, np.nan)\n"
          ]
        }
      ],
      "source": [
        "import numpy as np\n",
        "\n",
        "# Step 1: Check unique values in the 'movement' column\n",
        "unique_values = df_filtered['movement'].unique()\n",
        "print(unique_values)\n",
        "\n",
        "# Step 2: Replace non-numeric values with NaN\n",
        "non_numeric_values = ['Avoid', 'Approach']  # Add any other non-numeric values if present\n",
        "df_filtered['movement'] = df_filtered['movement'].replace(non_numeric_values, np.nan)\n",
        "\n",
        "# Step 3: Fill NaN values with -1\n",
        "df_filtered['movement'] = df_filtered['movement'].fillna(-1)\n",
        "\n",
        "# Step 4: Convert the column to integers\n",
        "df_filtered['movement'] = df_filtered['movement'].astype(int)\n",
        "\n",
        "\n",
        "\n"
      ]
    },
    {
      "cell_type": "code",
      "execution_count": 28,
      "id": "27520ca7",
      "metadata": {
        "colab": {
          "base_uri": "https://localhost:8080/"
        },
        "id": "27520ca7",
        "outputId": "e47fdedb-daa1-4fa9-ef2a-21567e54aff9"
      },
      "outputs": [
        {
          "name": "stdout",
          "output_type": "stream",
          "text": [
            "movement             int64\n",
            "response_time        int64\n",
            "ImpVsExp            object\n",
            "Age                  int64\n",
            "CurrentGender       object\n",
            "RaceEthnicity       object\n",
            "Race                object\n",
            "Political_1         object\n",
            "stimuli              int64\n",
            "white_black        float64\n",
            "diversity_index    float64\n",
            "dtype: object\n"
          ]
        }
      ],
      "source": [
        "df_filtered['movement'] = df_filtered['movement'].astype('int')\n",
        "# Convert those columns to 'category' data type\n",
        "categorical_columns = ['movement', 'ImpVsExp', 'CurrentGender', 'RaceEthnicity', 'Race']\n",
        "\n",
        "for column in categorical_columns:\n",
        "    df_filtered.loc[:, column] = df_filtered[column].astype('category')\n",
        "\n",
        "print(df_filtered.dtypes)"
      ]
    },
    {
      "cell_type": "code",
      "execution_count": 29,
      "id": "ecc1561e",
      "metadata": {
        "id": "ecc1561e"
      },
      "outputs": [],
      "source": [
        "# Drop original 'participant' and target 'response_time' for X\n",
        "X = df_filtered.drop(columns=['response_time'])\n",
        "y = df_filtered['response_time']\n",
        "\n",
        "# Scale numeric features\n",
        "numeric_cols = X.select_dtypes(include=['float64', 'int64']).columns\n",
        "scaler = StandardScaler()\n",
        "X[numeric_cols] = scaler.fit_transform(X[numeric_cols])\n",
        "\n",
        "X['rt'] = y\n",
        "X.to_csv('names_cleaned_scaled.csv')"
      ]
    },
    {
      "cell_type": "code",
      "execution_count": null,
      "id": "f8957d60",
      "metadata": {
        "id": "f8957d60"
      },
      "outputs": [],
      "source": []
    }
  ],
  "metadata": {
    "accelerator": "GPU",
    "colab": {
      "gpuType": "T4",
      "provenance": []
    },
    "kernelspec": {
      "display_name": "Python 3.12.2",
      "language": "python",
      "name": "python3"
    },
    "language_info": {
      "codemirror_mode": {
        "name": "ipython",
        "version": 3
      },
      "file_extension": ".py",
      "mimetype": "text/x-python",
      "name": "python",
      "nbconvert_exporter": "python",
      "pygments_lexer": "ipython3",
      "version": "3.12.2"
    },
    "vscode": {
      "interpreter": {
        "hash": "fda188d878897b99f93015e825fd514f165caf7cce854e6aae8aaed1efd55f02"
      }
    }
  },
  "nbformat": 4,
  "nbformat_minor": 5
}
